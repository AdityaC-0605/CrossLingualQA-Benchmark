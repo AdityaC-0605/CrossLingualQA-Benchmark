{
  "cells": [
    {
      "cell_type": "markdown",
      "metadata": {},
      "source": [
        "# Few-Shot Cross-Lingual QA Experiments\n",
        "\n",
        "This notebook runs few-shot experiments for both mBERT and mT5 models, testing 1-shot, 5-shot, and 10-shot learning scenarios.\n"
      ]
    },
    {
      "cell_type": "code",
      "execution_count": null,
      "metadata": {},
      "outputs": [],
      "source": [
        "# Import necessary libraries\n",
        "import sys\n",
        "import os\n",
        "sys.path.append('../src')\n",
        "\n",
        "import yaml\n",
        "import torch\n",
        "import pandas as pd\n",
        "import matplotlib.pyplot as plt\n",
        "import seaborn as sns\n",
        "from pathlib import Path\n",
        "import json\n",
        "import time\n",
        "\n",
        "from src.training.few_shot import run_few_shot_comparison\n",
        "from src.utils.device_utils import DeviceManager\n",
        "\n",
        "# Set up plotting\n",
        "plt.style.use('seaborn-v0_8')\n",
        "sns.set_palette(\"husl\")\n"
      ]
    },
    {
      "cell_type": "markdown",
      "metadata": {},
      "source": [
        "## 1. Load Configuration\n"
      ]
    },
    {
      "cell_type": "code",
      "execution_count": null,
      "metadata": {},
      "outputs": [],
      "source": [
        "# Load configuration files\n",
        "with open('../config/model_configs.yaml', 'r') as f:\n",
        "    model_config = yaml.safe_load(f)\n",
        "\n",
        "with open('../config/training_configs.yaml', 'r') as f:\n",
        "    training_config = yaml.safe_load(f)\n",
        "\n",
        "with open('../config/experiment_configs.yaml', 'r') as f:\n",
        "    experiment_config = yaml.safe_load(f)\n",
        "\n",
        "print(\"Configuration loaded successfully\")\n",
        "print(f\"Model config keys: {list(model_config.keys())}\")\n",
        "print(f\"Training config keys: {list(training_config.keys())}\")\n",
        "print(f\"Experiment config keys: {list(experiment_config.keys())}\")\n"
      ]
    },
    {
      "cell_type": "markdown",
      "metadata": {},
      "source": [
        "## 2. Initialize Device Manager\n"
      ]
    },
    {
      "cell_type": "code",
      "execution_count": null,
      "metadata": {},
      "outputs": [],
      "source": [
        "# Initialize device manager\n",
        "device_manager = DeviceManager(model_config.get('device', 'auto'))\n",
        "print(f\"Device: {device_manager.get_device()}\")\n",
        "print(f\"Memory info: {device_manager.memory_info}\")\n",
        "print(f\"Is MPS: {device_manager.is_mps()}\")\n",
        "print(f\"Is CPU: {device_manager.is_cpu()}\")\n"
      ]
    },
    {
      "cell_type": "markdown",
      "metadata": {},
      "source": [
        "## 3. Run Few-Shot Experiments\n"
      ]
    },
    {
      "cell_type": "code",
      "execution_count": null,
      "metadata": {},
      "outputs": [],
      "source": [
        "# Prepare experiment configuration\n",
        "experiment_config_combined = {\n",
        "    **model_config,\n",
        "    **training_config['few_shot'],\n",
        "    **experiment_config,
    'few_shot_sizes': training_config.get('few_shot_sizes', [1, 5, 10]),
    'seeds': training_config.get('seeds', [42, 123, 456]),\n",
        "    'output_dir': '../results',\n",
        "    'cache_dir': '../cache'\n",
        "}\n",
        "\n",
        "print(\"Starting few-shot experiments...\")\n",
        "print(f\"Output directory: {experiment_config_combined['output_dir']}\")\n",
        "print(f\"Cache directory: {experiment_config_combined['cache_dir']}\")\n",
        "print(f\"Few-shot sizes: {experiment_config_combined['few_shot_sizes']}\")\n",
        "\n",
        "# Run few-shot comparison\n",
        "start_time = time.time()\n",
        "few_shot_results = run_few_shot_comparison(\n",
        "    config=experiment_config_combined,\n",
        "    device_manager=device_manager\n",
        ")\n",
        "end_time = time.time()\n",
        "\n",
        "print(f\"\\nFew-shot experiments completed in {end_time - start_time:.2f} seconds\")\n"
      ]
    }
  ],
  "metadata": {
    "language_info": {
      "name": "python"
    }
  },
  "nbformat": 4,
  "nbformat_minor": 2
}
