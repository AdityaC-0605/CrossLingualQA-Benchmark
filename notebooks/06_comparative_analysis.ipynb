{
  "cells": [
    {
      "cell_type": "markdown",
      "metadata": {},
      "source": [
        "# Comparative Analysis of Cross-Lingual QA Results\n",
        "\n",
        "This notebook provides comprehensive analysis of zero-shot and few-shot experiment results, including statistical significance testing and visualization.\n"
      ]
    },
    {
      "cell_type": "code",
      "execution_count": null,
      "metadata": {},
      "outputs": [],
      "source": [
        "# Import necessary libraries\n",
        "import sys\n",
        "import os\n",
        "sys.path.append('../src')\n",
        "\n",
        "import yaml\n",
        "import torch\n",
        "import pandas as pd\n",
        "import matplotlib.pyplot as plt\n",
        "import seaborn as sns\n",
        "import numpy as np\n",
        "from pathlib import Path\n",
        "import json\n",
        "from scipy import stats\n",
        "from typing import Dict, List, Any\n",
        "\n",
        "from src.evaluation.analysis import ResultAnalyzer, StatisticalAnalyzer, ResultVisualizer\n",
        "from src.utils.device_utils import DeviceManager\n",
        "\n",
        "# Set up plotting\n",
        "plt.style.use('seaborn-v0_8')\n",
        "sns.set_palette(\"husl\")\n",
        "plt.rcParams['figure.figsize'] = (12, 8)\n"
      ]
    },
    {
      "cell_type": "markdown",
      "metadata": {},
      "source": [
        "## 1. Load Experiment Results\n"
      ]
    },
    {
      "cell_type": "code",
      "execution_count": null,
      "metadata": {},
      "outputs": [],
      "source": [
        "# Load results from experiments\n",
        "results_dir = Path('../results')\n",
        "\n",
        "# Initialize analyzers\n",
        "result_analyzer = ResultAnalyzer()\n",
        "statistical_analyzer = StatisticalAnalyzer()\n",
        "visualizer = ResultVisualizer()\n",
        "\n",
        "# Load zero-shot results\n",
        "zero_shot_results = {}\n",
        "if (results_dir / 'zero_shot_mbert_results.json').exists():\n",
        "    with open(results_dir / 'zero_shot_mbert_results.json', 'r') as f:\n",
        "        zero_shot_results['mbert'] = json.load(f)\n",
        "\n",
        "if (results_dir / 'zero_shot_mt5_results.json').exists():\n",
        "    with open(results_dir / 'zero_shot_mt5_results.json', 'r') as f:\n",
        "        zero_shot_results['mt5'] = json.load(f)\n",
        "\n",
        "# Load few-shot results\n",
        "few_shot_results = {}\n",
        "if (results_dir / 'few_shot_mbert_results.json').exists():\n",
        "    with open(results_dir / 'few_shot_mbert_results.json', 'r') as f:\n",
        "        few_shot_results['mbert'] = json.load(f)\n",
        "\n",
        "if (results_dir / 'few_shot_mt5_results.json').exists():\n",
        "    with open(results_dir / 'few_shot_mt5_results.json', 'r') as f:\n",
        "        few_shot_results['mt5'] = json.load(f)\n",
        "\n",
        "print(\"Results loaded successfully!\")\n",
        "print(f\"Zero-shot results: {list(zero_shot_results.keys())}\")\n",
        "print(f\"Few-shot results: {list(few_shot_results.keys())}\")\n"
      ]
    }
  ],
  "metadata": {
    "language_info": {
      "name": "python"
    }
  },
  "nbformat": 4,
  "nbformat_minor": 2
}
