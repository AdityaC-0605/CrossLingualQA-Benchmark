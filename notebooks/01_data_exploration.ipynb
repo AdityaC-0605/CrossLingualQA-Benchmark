{
  "cells": [
    {
      "cell_type": "markdown",
      "metadata": {},
      "source": [
        "# Cross-Lingual QA Data Exploration\n",
        "\n",
        "This notebook explores the XQuAD and SQuAD datasets used in our cross-lingual question answering experiments.\n"
      ]
    },
    {
      "cell_type": "code",
      "execution_count": null,
      "metadata": {},
      "outputs": [],
      "source": [
        "# Import necessary libraries\n",
        "import sys\n",
        "import os\n",
        "sys.path.append('../src')\n",
        "\n",
        "import pandas as pd\n",
        "import matplotlib.pyplot as plt\n",
        "import seaborn as sns\n",
        "from collections import Counter\n",
        "import numpy as np\n",
        "\n",
        "from data.loaders import UnifiedDataLoader, XQuADLoader, SQuADLoader\n",
        "from data.preprocessors import DataPreprocessor\n",
        "from utils.device_utils import DeviceManager\n",
        "\n",
        "# Set up plotting\n",
        "plt.style.use('seaborn-v0_8')\n",
        "sns.set_palette(\"husl\")\n"
      ]
    },
    {
      "cell_type": "markdown",
      "metadata": {},
      "source": [
        "## 1. Load and Explore XQuAD Dataset\n"
      ]
    },
    {
      "cell_type": "code",
      "execution_count": null,
      "metadata": {},
      "outputs": [],
      "source": [
        "# Initialize data loader\n",
        "data_loader = UnifiedDataLoader()\n",
        "\n",
        "# Load XQuAD data\n",
        "print(\"Loading XQuAD datasets...\")\n",
        "xquad_data = data_loader.xquad_loader.load_all_languages()\n",
        "\n",
        "print(f\"Loaded XQuAD data for {len(xquad_data)} languages\")\n",
        "for lang, dataset in xquad_data.items():\n",
        "    print(f\"  {lang}: {len(dataset['validation'])} examples\")\n"
      ]
    }
  ],
  "metadata": {
    "language_info": {
      "name": "python"
    }
  },
  "nbformat": 4,
  "nbformat_minor": 2
}
